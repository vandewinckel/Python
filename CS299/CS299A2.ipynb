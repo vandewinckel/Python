{
 "cells": [
  {
   "cell_type": "code",
   "execution_count": 4,
   "metadata": {},
   "outputs": [
    {
     "name": "stdin",
     "output_type": "stream",
     "text": [
      "Day of the Week:  Tuesday\n",
      "Enter Tax:  8\n",
      "Enter Category:  Produce\n",
      "[ITEM],[QTY],[PRICE] Lettuce,3,3.00\n",
      "[ITEM],[QTY],[PRICE] Grape,2,3.00\n",
      "[ITEM],[QTY],[PRICE] no\n",
      "Enter Category:  Canned\n",
      "[ITEM],[QTY],[PRICE] Tuna,4,5.00\n",
      "[ITEM],[QTY],[PRICE] Beans,25,3.00\n",
      "[ITEM],[QTY],[PRICE] no\n",
      "Enter Category:  no\n"
     ]
    },
    {
     "name": "stdout",
     "output_type": "stream",
     "text": [
      "\n",
      "------------------ Costco ------------------\n",
      "PRODUCE: QTY 3 LETTUCE $3.00\n",
      "PRODUCE: QTY 2 GRAPE $3.00\n",
      "CANNED: QTY 4 TUNA $5.00\n",
      "CANNED: QTY 25 BEANS $3.00\n",
      "--------------------------------------------\n",
      "\n",
      "TAX: 8%\n",
      "SUB TOTAL: $110.00\n",
      "SALE TOTAL: $110.00\n",
      "TOTAL DUE:  $118.80\n",
      "\n",
      "POINTS AWARDED: 550!\n"
     ]
    }
   ],
   "source": [
    "cat = []\n",
    "items = []\n",
    "x = 1\n",
    "tot = 0\n",
    "\n",
    "dow = input(\"Day of the Week: \")\n",
    "\n",
    "tax = input(\"Enter Tax: \")\n",
    "if not tax.isdigit():\n",
    "    tax = input(\"Enter Valid Tax: \")\n",
    "\n",
    "#input\n",
    "while x > 0:\n",
    "    catU = input(\"Enter Category: \")\n",
    "    catU = catU.upper()\n",
    "    if catU == 'NO':\n",
    "        x = 0\n",
    "    else:\n",
    "        x = 1\n",
    "        a = 1\n",
    "    while a > 0:\n",
    "        itm = (input(\"[ITEM],[QTY],[PRICE]\"))\n",
    "        iform = itm.upper()\n",
    "        if iform == \"NO\":\n",
    "            a = 0\n",
    "        else:\n",
    "            if not itm.count(',') == 2:\n",
    "                print(\"Invalid Statement\")\n",
    "                a = 0\n",
    "            items.append(catU)\n",
    "            items.append(iform.split(','))\n",
    "            cat.append(items)\n",
    "            items = []\n",
    "\n",
    "#Calculations\n",
    "taxp = (float(tax)/100)+1\n",
    "for price in cat:\n",
    "    tot = tot + ((float(price[1][1])*float(price[1][2])))\n",
    "tot_tx = float(tot)*float(taxp)\n",
    "tot_sl = tot\n",
    "#Points\n",
    "tot_pt = int(tot)*5\n",
    "#DOW sale\n",
    "DOW = dow.upper()\n",
    "if DOW == 'SUNDAY':\n",
    "    tot_sl = tot*.80\n",
    "    tot_tx = float(tot_sl)*float(taxp)\n",
    "\n",
    "print(\"\")\n",
    "print(\"------------------ Costco ------------------\")\n",
    "for n in cat:\n",
    "    print(n[0]+':', 'QTY', n[1][1], n[1][0], '$' + n[1][2])\n",
    "print(\"--------------------------------------------\")\n",
    "print(\"\")\n",
    "print(\"TAX:\", tax + '%')\n",
    "print(\"SUB TOTAL:\", '$' + \"{0:.2f}\".format(tot))\n",
    "print(\"SALE TOTAL:\", '$' + \"{0:.2f}\".format(tot_sl))\n",
    "print(\"TOTAL DUE: \", '$' + \"{0:.2f}\".format(tot_tx))\n",
    "print(\"\")\n",
    "print(\"POINTS AWARDED:\", str(tot_pt) + '!')\n",
    "if DOW == 'SUNDAY':\n",
    "    print(\"\")\n",
    "    print(\"SUNDAY SALE! 20% OFF CART\")\n"
   ]
  },
  {
   "cell_type": "code",
   "execution_count": null,
   "metadata": {},
   "outputs": [],
   "source": []
  }
 ],
 "metadata": {
  "kernelspec": {
   "display_name": "Python 3",
   "language": "python",
   "name": "python3"
  },
  "language_info": {
   "codemirror_mode": {
    "name": "ipython",
    "version": 3
   },
   "file_extension": ".py",
   "mimetype": "text/x-python",
   "name": "python",
   "nbconvert_exporter": "python",
   "pygments_lexer": "ipython3",
   "version": "3.7.4"
  }
 },
 "nbformat": 4,
 "nbformat_minor": 4
}
