{
 "cells": [
  {
   "cell_type": "code",
   "execution_count": 67,
   "metadata": {},
   "outputs": [
    {
     "name": "stdin",
     "output_type": "stream",
     "text": [
      "Enter Category:  Produce\n",
      "Enter Item:  Apple\n",
      "Enter Price:  4.00\n",
      "Enter Quantity:  2\n",
      "New Item [y,n] n\n",
      "New Category [y,n] y\n",
      "Enter Category:  Meat\n",
      "Enter Item:  Pork\n",
      "Enter Price:  3.00\n",
      "Enter Quantity:  2\n",
      "New Item [y,n] n\n",
      "New Category [y,n] n\n"
     ]
    },
    {
     "name": "stdout",
     "output_type": "stream",
     "text": [
      "{'Produce': {'Apple': (4.0, 2), 'Pork': (3.0, 2)}, 'Meat': {'Apple': (4.0, 2), 'Pork': (3.0, 2)}}\n"
     ]
    }
   ],
   "source": [
    "store = {}\n",
    "i = {}\n",
    "x = 'y'\n",
    "while x == 'y':\n",
    "    n = input(\"Enter Category: \") \n",
    "    while x == 'y':\n",
    "        new_item = input(\"Enter Item: \")\n",
    "        new_price = input(\"Enter Price: \")\n",
    "        new_qty = input(\"Enter Quantity: \")\n",
    "        i[new_item] = float(new_price), int(new_qty)\n",
    "        store[n] = i\n",
    "        x = input(\"New Item [y,n]\")\n",
    "    x = input(\"New Category [y,n]\")\n",
    "print(store)"
   ]
  },
  {
   "cell_type": "code",
   "execution_count": null,
   "metadata": {},
   "outputs": [],
   "source": []
  }
 ],
 "metadata": {
  "kernelspec": {
   "display_name": "Python 3",
   "language": "python",
   "name": "python3"
  },
  "language_info": {
   "codemirror_mode": {
    "name": "ipython",
    "version": 3
   },
   "file_extension": ".py",
   "mimetype": "text/x-python",
   "name": "python",
   "nbconvert_exporter": "python",
   "pygments_lexer": "ipython3",
   "version": "3.7.4"
  }
 },
 "nbformat": 4,
 "nbformat_minor": 4
}
